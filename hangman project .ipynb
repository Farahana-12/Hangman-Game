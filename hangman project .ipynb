{
 "cells": [
  {
   "cell_type": "code",
   "execution_count": 1,
   "id": "274a9a69-4979-4c5e-846e-6c03cdef8fc9",
   "metadata": {},
   "outputs": [
    {
     "name": "stdout",
     "output_type": "stream",
     "text": [
      "Let's start the game!!\n",
      "\n",
      "_ _ _ _ _ _\n"
     ]
    },
    {
     "name": "stdin",
     "output_type": "stream",
     "text": [
      "Guess a letter: r\n"
     ]
    },
    {
     "name": "stdout",
     "output_type": "stream",
     "text": [
      "\n",
      "_ r _ _ _ _\n"
     ]
    },
    {
     "name": "stdin",
     "output_type": "stream",
     "text": [
      "Guess a letter: B\n"
     ]
    },
    {
     "name": "stdout",
     "output_type": "stream",
     "text": [
      "Letter not in word\n",
      "\n",
      "_ r _ _ _ _\n"
     ]
    },
    {
     "name": "stdin",
     "output_type": "stream",
     "text": [
      "Guess a letter: b\n"
     ]
    },
    {
     "name": "stdout",
     "output_type": "stream",
     "text": [
      "Letter not in word\n",
      "\n",
      "_ r _ _ _ _\n"
     ]
    },
    {
     "name": "stdin",
     "output_type": "stream",
     "text": [
      "Guess a letter: r\n"
     ]
    },
    {
     "name": "stdout",
     "output_type": "stream",
     "text": [
      "\n",
      "_ r _ _ _ _\n"
     ]
    },
    {
     "name": "stdin",
     "output_type": "stream",
     "text": [
      "Guess a letter: o\n"
     ]
    },
    {
     "name": "stdout",
     "output_type": "stream",
     "text": [
      "\n",
      "o r _ _ _ _\n"
     ]
    },
    {
     "name": "stdin",
     "output_type": "stream",
     "text": [
      "Guess a letter: a\n"
     ]
    },
    {
     "name": "stdout",
     "output_type": "stream",
     "text": [
      "\n",
      "o r a _ _ _\n"
     ]
    },
    {
     "name": "stdin",
     "output_type": "stream",
     "text": [
      "Guess a letter: n\n"
     ]
    },
    {
     "name": "stdout",
     "output_type": "stream",
     "text": [
      "\n",
      "o r a n _ _\n"
     ]
    },
    {
     "name": "stdin",
     "output_type": "stream",
     "text": [
      "Guess a letter: g\n"
     ]
    },
    {
     "name": "stdout",
     "output_type": "stream",
     "text": [
      "\n",
      "o r a n g _\n"
     ]
    },
    {
     "name": "stdin",
     "output_type": "stream",
     "text": [
      "Guess a letter: e\n"
     ]
    },
    {
     "name": "stdout",
     "output_type": "stream",
     "text": [
      "You succeeded!!!\n",
      "o r a n g e\n"
     ]
    }
   ],
   "source": [
    "import random\n",
    "words=[\"Cat\", \"Dog\", \"Tree\", \"Book\", \"Ball\",\"Orange\", \"Guitar\", \"Jacket\", \"Bicycle\", \"Puzzle\",\n",
    "    \"Elephant\", \"Computer\", \"Chocolate\", \"Dinosaur\", \"Universe\",\n",
    "    \"Kangaroo\", \"Penguin\", \"Giraffe\", \"Pasta\", \"Taco\",\n",
    "    \"Pizza\", \"Sushi\", \"Sandwich\", \"Salad\", \"Icecream\",\n",
    "    \"Iceland\", \"Brazil\", \"Canada\", \"Australia\", \"Japan\",\n",
    "    \"France\", \"Italy\", \"Mexico\", \"Russia\", \"India\",\n",
    "    \"Inception\", \"Gladiator\", \"Titanic\", \"Avatar\", \"Matrix\",\n",
    "    \"Horror\", \"Comedy\", \"Drama\", \"Thriller\", \"Action\",\n",
    "    \"Galaxy\", \"Meteor\", \"Volcano\", \"Ocean\", \"Mountain\",\n",
    "    \"Desert\", \"Forest\", \"Island\", \"River\", \"Waterfall\"]\n",
    "choosen_word= random.choice(words)\n",
    "choosen_word=choosen_word.lower()\n",
    "word=['_' for _ in choosen_word]\n",
    "attempts=10\n",
    "print(\"Let's start the game!!\")\n",
    "while attempts>0 and '_' in word:\n",
    "    print(\"\\n\"+' '.join(word))\n",
    "    guess=input(\"Guess a letter:\").lower()\n",
    "    if guess in choosen_word:\n",
    "        for index,letter in enumerate(choosen_word):\n",
    "            if letter==guess:\n",
    "                word[index]=guess\n",
    "    else:\n",
    "        print(\"Letter not in word\")\n",
    "        attempts-=1\n",
    "if '_' not in word:\n",
    "    print(\"You succeeded!!!\")\n",
    "    print(' '.join(word))\n",
    "else:\n",
    "    print(\"Try again later!!!\"+choosen_word)"
   ]
  },
  {
   "cell_type": "code",
   "execution_count": null,
   "id": "7e3db747-209b-46e6-9493-301524ea54fa",
   "metadata": {},
   "outputs": [],
   "source": []
  }
 ],
 "metadata": {
  "kernelspec": {
   "display_name": "Python 3 (ipykernel)",
   "language": "python",
   "name": "python3"
  },
  "language_info": {
   "codemirror_mode": {
    "name": "ipython",
    "version": 3
   },
   "file_extension": ".py",
   "mimetype": "text/x-python",
   "name": "python",
   "nbconvert_exporter": "python",
   "pygments_lexer": "ipython3",
   "version": "3.11.7"
  }
 },
 "nbformat": 4,
 "nbformat_minor": 5
}
